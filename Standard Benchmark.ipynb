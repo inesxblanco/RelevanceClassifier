{
 "cells": [
  {
   "cell_type": "code",
   "execution_count": null,
   "id": "195f164e",
   "metadata": {},
   "outputs": [],
   "source": [
    "# Import data into pandas dataframe\n",
    "import pandas as pd\n",
    "df_train = pd.read_excel('relevance_train_processed.xlsx')\n",
    "df_test = pd.read_excel('relevance_test_processed.xlsx')"
   ]
  },
  {
   "cell_type": "code",
   "execution_count": null,
   "id": "625d672d",
   "metadata": {},
   "outputs": [],
   "source": [
    "#Import other relevant libraries\n",
    "import numpy as np\n",
    "from sklearn.model_selection import train_test_split\n",
    "from sklearn.feature_extraction.text import TfidfVectorizer\n",
    "from sklearn.linear_model import LogisticRegression\n",
    "from sklearn.metrics import accuracy_score\n",
    "import statistics"
   ]
  },
  {
   "cell_type": "code",
   "execution_count": null,
   "id": "e8e2c7aa",
   "metadata": {},
   "outputs": [],
   "source": [
    "#Make all nan values into strings\n",
    "df_train_str = df_train.where(pd.notnull(df_train),'')\n",
    "df_test_str = df_test.where(pd.notnull(df_test),'')"
   ]
  },
  {
   "cell_type": "code",
   "execution_count": null,
   "id": "ed73b546",
   "metadata": {},
   "outputs": [],
   "source": [
    "#For this simple benchmark model only accounting for body\n",
    "#Separate training data into content/features (x), and judgement/label (y)\n",
    "x_train = df_train_str['body']\n",
    "y_train = df_train_str['judgement']\n",
    "x_test = df_test_str['body'] \n",
    "\n",
    "#For training purposes separate training into learning and trialing data, trial size 20%\n",
    "x_learn, x_trial, y_learn, y_trial_real = train_test_split(x_train, y_train, test_size = 0.2, random_state=42) "
   ]
  },
  {
   "cell_type": "code",
   "execution_count": null,
   "id": "a4cfb83b",
   "metadata": {},
   "outputs": [],
   "source": [
    "#Define function that performs learning\n",
    "def standard_benchmark (X, Y, tbd):\n",
    "    #Perform token vectorisation on body data\n",
    "    feature_extraction = TfidfVectorizer(min_df = 0, stop_words='english', lowercase=True)\n",
    "    X_features = feature_extraction.fit_transform(X)\n",
    "    tbd_features = feature_extraction.transform(tbd)\n",
    "    \n",
    "    #Train a logistic regression model\n",
    "    model = LogisticRegression()\n",
    "    model.fit(X_features, Y)\n",
    "    result = model.predict(tbd_features)\n",
    "    return result"
   ]
  },
  {
   "cell_type": "code",
   "execution_count": null,
   "id": "3b7f092a",
   "metadata": {},
   "outputs": [],
   "source": [
    "#Implement model on training set for evaluation\n",
    "y_trial_predicted = standard_benchmark(x_learn, y_learn, x_trial)"
   ]
  },
  {
   "cell_type": "code",
   "execution_count": null,
   "id": "6fa2fb33",
   "metadata": {},
   "outputs": [],
   "source": [
    "#Evaluation of the model\n",
    "accuracy = accuracy_score(y_trial_predicted, y_trial_real)\n",
    "print(accuracy)"
   ]
  },
  {
   "cell_type": "code",
   "execution_count": null,
   "id": "8533e972",
   "metadata": {},
   "outputs": [],
   "source": [
    "#Implement model on train and test set.\n",
    "prediction = standard_benchmark(x_train, y_train, x_test)"
   ]
  },
  {
   "cell_type": "code",
   "execution_count": null,
   "id": "a5de95cc",
   "metadata": {},
   "outputs": [],
   "source": [
    "#Output CSV with results\n",
    "prediction_pd = pd.DataFrame({'id': df_test_str['id'], 'judgement': prediction})\n",
    "prediction_pd.to_csv('StandardBenchmark.csv', index = False)"
   ]
  },
  {
   "cell_type": "code",
   "execution_count": null,
   "id": "55185514",
   "metadata": {},
   "outputs": [],
   "source": [
    "#For report purposes run model with multiple seeds\n",
    "cycles = 10 #initiate as desired with int (there is a max iter for sklearn)\n",
    "accuracy_arr = [0] * cycles\n",
    "for i in range(cycles):\n",
    "    x_learn, x_trial, y_learn, y_trial_real = train_test_split(x_train, y_train, test_size = 0.2, random_state=i)\n",
    "    y_trial_predicted = standard_benchmark(x_learn, y_learn, x_trial)\n",
    "    accuracy_arr[i] = accuracy_score(y_trial_predicted, y_trial_real)\n",
    "    print(i)\n",
    "\n",
    "#Print accuracy average and standard deviation\n",
    "print('Average Accuracy:', sum(accuracy_arr)/len(accuracy_arr))\n",
    "print('Standard Deviation:', statistics.pstdev(accuracy_arr))"
   ]
  },
  {
   "cell_type": "code",
   "execution_count": null,
   "id": "35755165",
   "metadata": {},
   "outputs": [],
   "source": []
  }
 ],
 "metadata": {
  "kernelspec": {
   "display_name": "Python 3 (ipykernel)",
   "language": "python",
   "name": "python3"
  },
  "language_info": {
   "codemirror_mode": {
    "name": "ipython",
    "version": 3
   },
   "file_extension": ".py",
   "mimetype": "text/x-python",
   "name": "python",
   "nbconvert_exporter": "python",
   "pygments_lexer": "ipython3",
   "version": "3.10.9"
  }
 },
 "nbformat": 4,
 "nbformat_minor": 5
}

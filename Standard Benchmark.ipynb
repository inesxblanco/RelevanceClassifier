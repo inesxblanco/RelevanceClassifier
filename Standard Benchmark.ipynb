{
 "cells": [
  {
   "cell_type": "code",
   "execution_count": 1,
   "id": "195f164e",
   "metadata": {},
   "outputs": [],
   "source": [
    "# Import data into pandas dataframe\n",
    "import pandas as pd\n",
    "df_train = pd.read_excel('relevance_train_processed.xlsx')\n",
    "df_test = pd.read_excel('relevance_test_processed.xlsx')"
   ]
  },
  {
   "cell_type": "code",
   "execution_count": 2,
   "id": "625d672d",
   "metadata": {},
   "outputs": [],
   "source": [
    "#Import other relevant libraries\n",
    "import numpy as np\n",
    "from sklearn.model_selection import train_test_split\n",
    "from sklearn.feature_extraction.text import TfidfVectorizer\n",
    "from sklearn.linear_model import LogisticRegression\n",
    "from sklearn.metrics import accuracy_score"
   ]
  },
  {
   "cell_type": "code",
   "execution_count": 3,
   "id": "e8e2c7aa",
   "metadata": {},
   "outputs": [],
   "source": [
    "#Make all nan values into strings\n",
    "df_train_str = df_train.where(pd.notnull(df_train),'')\n",
    "df_test_str = df_test.where(pd.notnull(df_test),'')"
   ]
  },
  {
   "cell_type": "code",
   "execution_count": 21,
   "id": "ed73b546",
   "metadata": {},
   "outputs": [],
   "source": [
    "#For this simple benchmark model only accounting for body\n",
    "#Separate training data into content/features (x), and judgement/label (y)\n",
    "x_train = df_train_str['body']\n",
    "y_train = df_train_str['judgement']\n",
    "x_test = df_test_str['body'] \n",
    "\n",
    "#For training purposes separate training into learning and trialing data, trial size 20%\n",
    "x_learn, x_trial, y_learn, y_trial_real = train_test_split(x_train, y_train, test_size = 0.2, random_state=42) "
   ]
  },
  {
   "cell_type": "code",
   "execution_count": 24,
   "id": "a4cfb83b",
   "metadata": {},
   "outputs": [],
   "source": [
    "#Define function that performs learning\n",
    "def standard_benchmark (X, Y, tbd):\n",
    "    #Perform token vectorisation on body data\n",
    "    feature_extraction = TfidfVectorizer(min_df = 0, stop_words='english', lowercase=True)\n",
    "    X_features = feature_extraction.fit_transform(X)\n",
    "    tbd_features = feature_extraction.transform(tbd)\n",
    "    \n",
    "    #Train a logistic regression model\n",
    "    model = LogisticRegression()\n",
    "    model.fit(X_features, Y)\n",
    "    result = model.predict(tbd_features)\n",
    "    return result"
   ]
  },
  {
   "cell_type": "code",
   "execution_count": 25,
   "id": "3b7f092a",
   "metadata": {},
   "outputs": [],
   "source": [
    "#Implement model on training set for evaluation\n",
    "y_trial_predicted = standard_benchmark(x_learn, y_learn, x_trial)"
   ]
  },
  {
   "cell_type": "code",
   "execution_count": 26,
   "id": "6fa2fb33",
   "metadata": {},
   "outputs": [
    {
     "name": "stdout",
     "output_type": "stream",
     "text": [
      "0.8681344696969697\n"
     ]
    }
   ],
   "source": [
    "#Evaluation of the model\n",
    "accuracy = accuracy_score(y_trial_predicted, y_trial_real)\n",
    "print(accuracy)"
   ]
  },
  {
   "cell_type": "code",
   "execution_count": null,
   "id": "8533e972",
   "metadata": {},
   "outputs": [],
   "source": []
  }
 ],
 "metadata": {
  "kernelspec": {
   "display_name": "Python 3 (ipykernel)",
   "language": "python",
   "name": "python3"
  },
  "language_info": {
   "codemirror_mode": {
    "name": "ipython",
    "version": 3
   },
   "file_extension": ".py",
   "mimetype": "text/x-python",
   "name": "python",
   "nbconvert_exporter": "python",
   "pygments_lexer": "ipython3",
   "version": "3.10.9"
  }
 },
 "nbformat": 4,
 "nbformat_minor": 5
}

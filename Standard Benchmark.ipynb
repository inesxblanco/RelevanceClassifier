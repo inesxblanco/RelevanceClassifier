{
 "cells": [
  {
   "cell_type": "code",
   "execution_count": 1,
   "id": "ffc91022",
   "metadata": {},
   "outputs": [],
   "source": [
    "# Import data into pandas dataframe\n",
    "import pandas as pd\n",
    "df_train = pd.read_excel('relevance_train_processed.xlsx')\n",
    "df_test = pd.read_excel('relevance_test_processed.xlsx')"
   ]
  },
  {
   "cell_type": "code",
   "execution_count": 2,
   "id": "324cf943",
   "metadata": {},
   "outputs": [],
   "source": [
    "#Import other relevant libraries\n",
    "import numpy as np\n",
    "from sklearn.model_selection import train_test_split\n",
    "from sklearn.feature_extraction.text import TfidfVectorizer\n",
    "from sklearn.linear_model import LogisticRegression\n",
    "from sklearn.metrics import accuracy_score"
   ]
  },
  {
   "cell_type": "code",
   "execution_count": 7,
   "id": "f627bb42",
   "metadata": {},
   "outputs": [],
   "source": [
    "#Vectorisation of the data\n",
    "\n",
    "#Make all nan values into strings\n",
    "df_train_str = df_train.where(pd.notnull(df_train),'')\n",
    "df_test_str = df_test.where(pd.notnull(df_test),'')\n",
    "\n"
   ]
  },
  {
   "cell_type": "code",
   "execution_count": null,
   "id": "8fd12a48",
   "metadata": {},
   "outputs": [],
   "source": []
  }
 ],
 "metadata": {
  "kernelspec": {
   "display_name": "Python 3 (ipykernel)",
   "language": "python",
   "name": "python3"
  },
  "language_info": {
   "codemirror_mode": {
    "name": "ipython",
    "version": 3
   },
   "file_extension": ".py",
   "mimetype": "text/x-python",
   "name": "python",
   "nbconvert_exporter": "python",
   "pygments_lexer": "ipython3",
   "version": "3.10.9"
  }
 },
 "nbformat": 4,
 "nbformat_minor": 5
}

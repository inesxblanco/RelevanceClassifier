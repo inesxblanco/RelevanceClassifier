{
 "cells": [
  {
   "cell_type": "code",
   "execution_count": null,
   "metadata": {},
   "outputs": [],
   "source": [
    "# Import data into pandas dataframe\n",
    "import pandas as pd\n",
    "df_train = pd.read_excel('relevance_train_processed.xlsx')\n",
    "df_test = pd.read_excel('relevance_test_processed.xlsx')"
   ]
  },
  {
   "cell_type": "code",
   "execution_count": null,
   "metadata": {},
   "outputs": [],
   "source": [
    "#Import other relevant libraries\n",
    "import numpy as np\n",
    "from sklearn.model_selection import train_test_split\n",
    "from sklearn.feature_extraction.text import TfidfVectorizer\n",
    "from sklearn.linear_model import LogisticRegression\n",
    "from sklearn.metrics import accuracy_score\n",
    "import statistics\n",
    "import tensorflow as tf\n",
    "from tensorflow.keras.models import Sequential\n",
    "from tensorflow.keras.layers import Dense, Embedding, Flatten"
   ]
  },
  {
   "cell_type": "code",
   "execution_count": null,
   "metadata": {},
   "outputs": [],
   "source": [
    "#Make all nan values into strings\n",
    "df_train_str = df_train.where(pd.notnull(df_train),'')\n",
    "df_test_str = df_test.where(pd.notnull(df_test),'')"
   ]
  },
  {
   "cell_type": "code",
   "execution_count": null,
   "metadata": {},
   "outputs": [],
   "source": [
    "#Taking into account author, topic, body, and title\n",
    "#Separate training data into content/features (x), and judgement/label (y)\n",
    "x_train = df_train_str[['author', 'topic_id', 'body', 'title']]\n",
    "y_train = df_train_str['judgement']\n",
    "x_test = df_test_str[['author', 'topic_id', 'body', 'title']]\n",
    "\n",
    "#For training purposes separate training into learning and trialing data, trial size 20%\n",
    "x_learn, x_trial, y_learn, y_trial_real = train_test_split(x_train, y_train, test_size = 0.2, random_state=42) "
   ]
  },
  {
   "cell_type": "code",
   "execution_count": null,
   "metadata": {},
   "outputs": [],
   "source": [
    "#Define the function that creates the neural network and performs training \n",
    "def threeneural (X, Y, tbd, dim, optimiser='adam', loss='binary_crossentropy', epochs = 10):\n",
    "    #Perform token vectorisation on data\n",
    "    feature_extraction = TfidfVectorizer(min_df = 0, stop_words='english', lowercase=True) #might change to keras to check if it performs different\n",
    "    X_features = feature_extraction.fit_transform(X)\n",
    "    tbd_features = feature_extraction.transform(tbd)\n",
    "    \n",
    "    #Model architecture <-- Need to experiment with this\n",
    "    model = Sequential([\n",
    "        Embedding(input_dim = 1000, outpu_dim = 64, input_length = 64),\n",
    "        Flatten()\n",
    "        Dense(64, activation='relu')\n",
    "        Dense(1, activation='sigmoid')\n",
    "    ])\n",
    "    \n",
    "    #Model compilation\n",
    "    model.compile(optimizer = optimiser, loss = loss)\n",
    "    \n",
    "    #Train neural network model \n",
    "    model.fit(X_features, Y, epochs = epochs, batch_size = 64)\n",
    "    result = model.predict(tbd_features)\n",
    "    return result\n",
    "    "
   ]
  },
  {
   "cell_type": "code",
   "execution_count": null,
   "metadata": {},
   "outputs": [],
   "source": [
    "#Implement model on training set for evaluation\n",
    "y_trial_predicted = threeneural(x_learn, y_learn, x_trial)"
   ]
  },
  {
   "cell_type": "code",
   "execution_count": null,
   "metadata": {},
   "outputs": [],
   "source": [
    "#Evaluation of the model\n",
    "accuracy = accuracy_score(y_trial_predicted, y_trial_real)\n",
    "print(accuracy)\n"
   ]
  },
  {
   "cell_type": "code",
   "execution_count": null,
   "metadata": {},
   "outputs": [],
   "source": [
    "#Implement model on train and test set.\n",
    "prediction = threeneural(x_train, y_train, x_test)\n"
   ]
  },
  {
   "cell_type": "code",
   "execution_count": null,
   "metadata": {},
   "outputs": [],
   "source": [
    "#Output CSV with results\n",
    "prediction_pd = pd.DataFrame({'id': df_test_str['id'], 'judgement': prediction})\n",
    "prediction_pd.to_csv('ThreeNeural.csv', index = False)\n"
   ]
  },
  {
   "cell_type": "code",
   "execution_count": null,
   "metadata": {},
   "outputs": [],
   "source": [
    "#For report purposes run model with multiple seeds\n",
    "cycles = 100 #initiate as desired with int (there is a max iter for sklearn)\n",
    "accuracy_arr = [0] * cycles\n",
    "for i in range(cycles):\n",
    "    x_learn, x_trial, y_learn, y_trial_real = train_test_split(x_train, y_train, test_size = 0.2, random_state=i)\n",
    "    y_trial_predicted = threeneural(x_learn, y_learn, x_trial)\n",
    "    accuracy_arr[i] = accuracy_score(y_trial_predicted, y_trial_real)\n",
    "    #print(i)\n",
    "\n",
    "#Print accuracy average and standard deviation\n",
    "print('Average Accuracy:', sum(accuracy_arr)/len(accuracy_arr))\n",
    "print('Standard Deviation:', statistics.pstdev(accuracy_arr))\n"
   ]
  },
  {
   "cell_type": "code",
   "execution_count": null,
   "metadata": {},
   "outputs": [],
   "source": []
  },
  {
   "cell_type": "code",
   "execution_count": null,
   "metadata": {},
   "outputs": [],
   "source": [
    "\n"
   ]
  },
  {
   "cell_type": "code",
   "execution_count": null,
   "metadata": {},
   "outputs": [],
   "source": []
  }
 ],
 "metadata": {
  "kernelspec": {
   "display_name": "Python 3",
   "language": "python",
   "name": "python3"
  },
  "language_info": {
   "codemirror_mode": {
    "name": "ipython",
    "version": 3
   },
   "file_extension": ".py",
   "mimetype": "text/x-python",
   "name": "python",
   "nbconvert_exporter": "python",
   "pygments_lexer": "ipython3",
   "version": "3.8.3"
  }
 },
 "nbformat": 4,
 "nbformat_minor": 4
}

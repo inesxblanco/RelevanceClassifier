{
 "cells": [
  {
   "cell_type": "code",
   "execution_count": 1,
   "id": "21beb097",
   "metadata": {},
   "outputs": [],
   "source": [
    "# Import data into pandas dataframe\n",
    "import pandas as pd\n",
    "df_train = pd.read_excel('relevance_train_processed.xlsx')\n",
    "df_test = pd.read_excel('relevance_test_processed.xlsx')"
   ]
  },
  {
   "cell_type": "code",
   "execution_count": 2,
   "id": "9e7c8ee2",
   "metadata": {},
   "outputs": [],
   "source": [
    "#Import other relevant libraries\n",
    "import numpy as np\n",
    "from sklearn.model_selection import train_test_split\n",
    "from sklearn.metrics import accuracy_score"
   ]
  },
  {
   "cell_type": "code",
   "execution_count": 3,
   "id": "7e3837d7",
   "metadata": {},
   "outputs": [],
   "source": [
    "#Make all nan values into strings\n",
    "df_train_str = df_train.where(pd.notnull(df_train),'')\n",
    "df_test_str = df_test.where(pd.notnull(df_test),'')"
   ]
  },
  {
   "cell_type": "code",
   "execution_count": 4,
   "id": "6228a704",
   "metadata": {},
   "outputs": [],
   "source": [
    "#For this simple benchmark model only accounting for body\n",
    "#Separate training data into content/features (x), and judgement/label (y)\n",
    "x_train = df_train_str['body']\n",
    "y_train = df_train_str['judgement']\n",
    "x_test = df_test_str['body'] \n",
    "\n",
    "#For training purposes separate training into learning and trialing data, trial size 20%\n",
    "#Important even if no training for consistency purposes when measuring accuracy\n",
    "x_learn, x_trial, y_learn, y_trial_real = train_test_split(x_train, y_train, test_size = 0.2, random_state=42)"
   ]
  },
  {
   "cell_type": "code",
   "execution_count": 5,
   "id": "3897de1b",
   "metadata": {},
   "outputs": [
    {
     "name": "stdout",
     "output_type": "stream",
     "text": [
      "0.8345170454545454\n"
     ]
    }
   ],
   "source": [
    "#Evaluation against all 0 bucket\n",
    "buckets = [0] * len(list(y_trial_real)) # generate list of all 0 predictions\n",
    "print(accuracy_score(y_trial_real, buckets))"
   ]
  },
  {
   "cell_type": "code",
   "execution_count": 7,
   "id": "931d07ac",
   "metadata": {},
   "outputs": [],
   "source": [
    "#Output CSV with results\n",
    "prediction_pd = pd.DataFrame({'id': df_test_str['id'], 'judgement': [0] * len(list(df_test_str['id']))})\n",
    "prediction_pd.to_csv('SparseBenchmark.csv', index = False)"
   ]
  },
  {
   "cell_type": "code",
   "execution_count": null,
   "id": "8ff53d2a",
   "metadata": {},
   "outputs": [],
   "source": [
    "#For report purposes run model with multiple seeds\n",
    "cycles = 10 #initiate as desired with int (there is a max iter for sklearn)\n",
    "accuracy_arr = [0] * cycles\n",
    "for i in range(cycles):\n",
    "    x_learn, x_trial, y_learn, y_trial_real = train_test_split(x_train, y_train, test_size = 0.2, random_state=i)\n",
    "    y_trial_predicted = standard_benchmark(x_learn, y_learn, x_trial)\n",
    "    accuracy_arr[i] = accuracy_score(buckets, y_trial_real)\n",
    "\n",
    "#Print accuracy average and standard deviation\n",
    "print('Average Accuracy:', sum(accuracy_arr)/len(accuracy_arr))\n",
    "print('Standard Deviation:', statistics.pstdev(accuracy_arr))"
   ]
  }
 ],
 "metadata": {
  "kernelspec": {
   "display_name": "Python 3 (ipykernel)",
   "language": "python",
   "name": "python3"
  },
  "language_info": {
   "codemirror_mode": {
    "name": "ipython",
    "version": 3
   },
   "file_extension": ".py",
   "mimetype": "text/x-python",
   "name": "python",
   "nbconvert_exporter": "python",
   "pygments_lexer": "ipython3",
   "version": "3.10.9"
  }
 },
 "nbformat": 4,
 "nbformat_minor": 5
}

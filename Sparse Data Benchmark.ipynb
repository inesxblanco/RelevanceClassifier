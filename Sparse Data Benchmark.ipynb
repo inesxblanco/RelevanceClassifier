{
 "cells": [
  {
   "cell_type": "code",
   "execution_count": 1,
   "metadata": {},
   "outputs": [],
   "source": [
    "# Import data into pandas dataframe\n",
    "import pandas as pd\n",
    "df_train = pd.read_excel('relevance_train_processed.xlsx')\n",
    "df_test = pd.read_excel('relevance_test_processed.xlsx')"
   ]
  },
  {
   "cell_type": "code",
   "execution_count": 2,
   "metadata": {},
   "outputs": [],
   "source": [
    "#Import other relevant libraries\n",
    "import numpy as np\n",
    "from sklearn.model_selection import train_test_split\n",
    "from sklearn.metrics import accuracy_score"
   ]
  },
  {
   "cell_type": "code",
   "execution_count": 3,
   "metadata": {},
   "outputs": [],
   "source": [
    "#Make all nan values into strings\n",
    "df_train_str = df_train.where(pd.notnull(df_train),'')\n",
    "df_test_str = df_test.where(pd.notnull(df_test),'')"
   ]
  },
  {
   "cell_type": "code",
   "execution_count": 4,
   "metadata": {},
   "outputs": [],
   "source": [
    "#For this simple benchmark model only accounting for body\n",
    "#Separate training data into content/features (x), and judgement/label (y)\n",
    "x_train = df_train_str['body']\n",
    "y_train = df_train_str['judgement']\n",
    "x_test = df_test_str['body'] \n",
    "\n",
    "#For training purposes separate training into learning and trialing data, trial size 20%\n",
    "#Important even if no training for consistency purposes when measuring accuracy\n",
    "x_learn, x_trial, y_learn, y_trial_real = train_test_split(x_train, y_train, test_size = 0.2, random_state=42)"
   ]
  },
  {
   "cell_type": "code",
   "execution_count": 5,
   "metadata": {},
   "outputs": [
    {
     "name": "stdout",
     "output_type": "stream",
     "text": [
      "0.8464068825910931\n"
     ]
    }
   ],
   "source": [
    "#Evaluation against all 0 bucket\n",
    "buckets = [0] * len(list(y_trial_real)) # generate list of all 0 predictions\n",
    "print(accuracy_score(y_trial_real, buckets))"
   ]
  },
  {
   "cell_type": "code",
   "execution_count": 6,
   "metadata": {},
   "outputs": [],
   "source": [
    "#Output CSV with results\n",
    "prediction_pd = pd.DataFrame({'id': df_test_str['id'], 'judgement': [0] * len(list(df_test_str['id']))})\n",
    "prediction_pd.to_csv('SparseBenchmark.csv', index = False)"
   ]
  },
  {
   "cell_type": "code",
   "execution_count": 7,
   "metadata": {},
   "outputs": [
    {
     "ename": "NameError",
     "evalue": "name 'standard_benchmark' is not defined",
     "output_type": "error",
     "traceback": [
      "\u001b[1;31m---------------------------------------------------------------------------\u001b[0m",
      "\u001b[1;31mNameError\u001b[0m                                 Traceback (most recent call last)",
      "\u001b[1;32m<ipython-input-7-38b03117dbc1>\u001b[0m in \u001b[0;36m<module>\u001b[1;34m\u001b[0m\n\u001b[0;32m      4\u001b[0m \u001b[1;32mfor\u001b[0m \u001b[0mi\u001b[0m \u001b[1;32min\u001b[0m \u001b[0mrange\u001b[0m\u001b[1;33m(\u001b[0m\u001b[0mcycles\u001b[0m\u001b[1;33m)\u001b[0m\u001b[1;33m:\u001b[0m\u001b[1;33m\u001b[0m\u001b[1;33m\u001b[0m\u001b[0m\n\u001b[0;32m      5\u001b[0m     \u001b[0mx_learn\u001b[0m\u001b[1;33m,\u001b[0m \u001b[0mx_trial\u001b[0m\u001b[1;33m,\u001b[0m \u001b[0my_learn\u001b[0m\u001b[1;33m,\u001b[0m \u001b[0my_trial_real\u001b[0m \u001b[1;33m=\u001b[0m \u001b[0mtrain_test_split\u001b[0m\u001b[1;33m(\u001b[0m\u001b[0mx_train\u001b[0m\u001b[1;33m,\u001b[0m \u001b[0my_train\u001b[0m\u001b[1;33m,\u001b[0m \u001b[0mtest_size\u001b[0m \u001b[1;33m=\u001b[0m \u001b[1;36m0.2\u001b[0m\u001b[1;33m,\u001b[0m \u001b[0mrandom_state\u001b[0m\u001b[1;33m=\u001b[0m\u001b[0mi\u001b[0m\u001b[1;33m)\u001b[0m\u001b[1;33m\u001b[0m\u001b[1;33m\u001b[0m\u001b[0m\n\u001b[1;32m----> 6\u001b[1;33m     \u001b[0my_trial_predicted\u001b[0m \u001b[1;33m=\u001b[0m \u001b[0mstandard_benchmark\u001b[0m\u001b[1;33m(\u001b[0m\u001b[0mx_learn\u001b[0m\u001b[1;33m,\u001b[0m \u001b[0my_learn\u001b[0m\u001b[1;33m,\u001b[0m \u001b[0mx_trial\u001b[0m\u001b[1;33m)\u001b[0m\u001b[1;33m\u001b[0m\u001b[1;33m\u001b[0m\u001b[0m\n\u001b[0m\u001b[0;32m      7\u001b[0m     \u001b[0maccuracy_arr\u001b[0m\u001b[1;33m[\u001b[0m\u001b[0mi\u001b[0m\u001b[1;33m]\u001b[0m \u001b[1;33m=\u001b[0m \u001b[0maccuracy_score\u001b[0m\u001b[1;33m(\u001b[0m\u001b[0mbuckets\u001b[0m\u001b[1;33m,\u001b[0m \u001b[0my_trial_real\u001b[0m\u001b[1;33m)\u001b[0m\u001b[1;33m\u001b[0m\u001b[1;33m\u001b[0m\u001b[0m\n\u001b[0;32m      8\u001b[0m \u001b[1;33m\u001b[0m\u001b[0m\n",
      "\u001b[1;31mNameError\u001b[0m: name 'standard_benchmark' is not defined"
     ]
    }
   ],
   "source": [
    "#For report purposes run model with multiple seeds\n",
    "cycles = 10 #initiate as desired with int (there is a max iter for sklearn)\n",
    "accuracy_arr = [0] * cycles\n",
    "for i in range(cycles):\n",
    "    x_learn, x_trial, y_learn, y_trial_real = train_test_split(x_train, y_train, test_size = 0.2, random_state=i)\n",
    "    y_trial_predicted = standard_benchmark(x_learn, y_learn, x_trial)\n",
    "    accuracy_arr[i] = accuracy_score(buckets, y_trial_real)\n",
    "\n",
    "#Print accuracy average and standard deviation\n",
    "print('Average Accuracy:', sum(accuracy_arr)/len(accuracy_arr))\n",
    "print('Standard Deviation:', statistics.pstdev(accuracy_arr))"
   ]
  }
 ],
 "metadata": {
  "kernelspec": {
   "display_name": "Python 3",
   "language": "python",
   "name": "python3"
  },
  "language_info": {
   "codemirror_mode": {
    "name": "ipython",
    "version": 3
   },
   "file_extension": ".py",
   "mimetype": "text/x-python",
   "name": "python",
   "nbconvert_exporter": "python",
   "pygments_lexer": "ipython3",
   "version": "3.8.3"
  }
 },
 "nbformat": 4,
 "nbformat_minor": 5
}
